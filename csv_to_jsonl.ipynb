{
 "cells": [
  {
   "cell_type": "code",
   "execution_count": 24,
   "metadata": {
    "executionInfo": {
     "elapsed": 649,
     "status": "ok",
     "timestamp": 1729499511052,
     "user": {
      "displayName": "Satvik Paramkusham",
      "userId": "09992778153373457651"
     },
     "user_tz": -330
    },
    "id": "RRlbp4opTurK"
   },
   "outputs": [],
   "source": [
    "import csv\n",
    "import json\n",
    "import os\n",
    "\n",
    "def csv_to_jsonl(input_csv, output_jsonl):\n",
    "    # Define the system message\n",
    "    system_message = {\n",
    "        \"role\": \"system\",\n",
    "        \"content\": \"You are helpful assistant.\"\n",
    "    }\n",
    "\n",
    "    # Read the CSV file and convert to JSONL\n",
    "    with open(input_csv, 'r', newline='', encoding='utf-8') as csvfile, \\\n",
    "         open(output_jsonl, 'w', encoding='utf-8') as jsonlfile:\n",
    "\n",
    "        reader = csv.DictReader(csvfile)\n",
    "        for row in reader:\n",
    "            print(row)\n",
    "            conversation = {\n",
    "                \"messages\": [\n",
    "                    system_message,\n",
    "                    {\"role\": \"user\", \"content\": row['Input']},\n",
    "                    {\"role\": \"assistant\", \"content\": row['Output']}\n",
    "                ]\n",
    "            }\n",
    "\n",
    "            jsonlfile.write(json.dumps(conversation) + '\\n')\n",
    "\n"
   ]
  },
  {
   "cell_type": "code",
   "execution_count": null,
   "metadata": {
    "colab": {
     "base_uri": "https://localhost:8080/"
    },
    "executionInfo": {
     "elapsed": 908,
     "status": "ok",
     "timestamp": 1729499534197,
     "user": {
      "displayName": "Satvik Paramkusham",
      "userId": "09992778153373457651"
     },
     "user_tz": -330
    },
    "id": "j-Jmo3brVhxZ",
    "outputId": "06afdeb7-af06-4e14-a23d-cc47623b395c"
   },
   "outputs": [],
   "source": [
    "# Specify the paths\n",
    "# use resources from : https://huggingface.co/datasets/huggingface-nineteen120/kathai_Paeyar_FineTune\n",
    "input_csv = './Resources/tamil_short_stories_30_updated.csv'  # gen this file using chatgpt\n",
    "output_jsonl = './Resources/tamil_short_stories_30.jsonl'  # Replace with your desired output file name\n",
    "\n",
    "# Ensure the output directory exists\n",
    "print(os.path.dirname(output_jsonl))\n",
    "os.makedirs(os.path.dirname(output_jsonl), exist_ok=True)\n",
    "\n",
    "# Run the conversion\n",
    "csv_to_jsonl(input_csv, output_jsonl)\n",
    "print(f\"Conversion complete. Output saved to {output_jsonl}\")"
   ]
  }
 ],
 "metadata": {
  "colab": {
   "authorship_tag": "ABX9TyMSMaXc3r6P2zlX2ZLmY1V9",
   "provenance": []
  },
  "kernelspec": {
   "display_name": "Python 3",
   "name": "python3"
  },
  "language_info": {
   "codemirror_mode": {
    "name": "ipython",
    "version": 3
   },
   "file_extension": ".py",
   "mimetype": "text/x-python",
   "name": "python",
   "nbconvert_exporter": "python",
   "pygments_lexer": "ipython3",
   "version": "3.11.11"
  }
 },
 "nbformat": 4,
 "nbformat_minor": 0
}
